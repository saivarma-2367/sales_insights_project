{
 "cells": [
  {
   "cell_type": "markdown",
   "id": "cd1c07fa-5ffe-4137-b5d9-22ae5010aa5e",
   "metadata": {},
   "source": [
    "importing required libraries:"
   ]
  },
  {
   "cell_type": "code",
   "execution_count": 150,
   "id": "6b4e9a95-37f6-490a-af13-79d7abdfecc7",
   "metadata": {},
   "outputs": [],
   "source": [
    "import numpy as np\n",
    "import pandas as pd\n",
    "import matplotlib.pyplot as plt\n",
    "import seaborn as sns\n",
    "sns.set()"
   ]
  },
  {
   "cell_type": "markdown",
   "id": "1bd8f02b-980c-4056-8550-a2acb65a166f",
   "metadata": {},
   "source": [
    "importing the dataset:"
   ]
  },
  {
   "cell_type": "code",
   "execution_count": 152,
   "id": "c46e9f0f-e80f-4801-9ad2-dae106f75cd0",
   "metadata": {},
   "outputs": [],
   "source": [
    "data_original=pd.read_csv('sales_transactions.csv')"
   ]
  },
  {
   "cell_type": "code",
   "execution_count": 154,
   "id": "dac17cee-a32a-498a-a4a2-366fc4bafb9f",
   "metadata": {},
   "outputs": [],
   "source": [
    "data=data_original.copy()"
   ]
  },
  {
   "cell_type": "code",
   "execution_count": 156,
   "id": "d21e3ee0-e46b-4bf3-ad1f-76aa06a446ed",
   "metadata": {},
   "outputs": [
    {
     "data": {
      "text/html": [
       "<div>\n",
       "<style scoped>\n",
       "    .dataframe tbody tr th:only-of-type {\n",
       "        vertical-align: middle;\n",
       "    }\n",
       "\n",
       "    .dataframe tbody tr th {\n",
       "        vertical-align: top;\n",
       "    }\n",
       "\n",
       "    .dataframe thead th {\n",
       "        text-align: right;\n",
       "    }\n",
       "</style>\n",
       "<table border=\"1\" class=\"dataframe\">\n",
       "  <thead>\n",
       "    <tr style=\"text-align: right;\">\n",
       "      <th></th>\n",
       "      <th>Order ID</th>\n",
       "      <th>Date</th>\n",
       "      <th>Product</th>\n",
       "      <th>Category</th>\n",
       "      <th>Quantity</th>\n",
       "      <th>Unit Price</th>\n",
       "      <th>Total Sales</th>\n",
       "      <th>Customer ID</th>\n",
       "      <th>Region</th>\n",
       "      <th>Payment Method</th>\n",
       "    </tr>\n",
       "  </thead>\n",
       "  <tbody>\n",
       "    <tr>\n",
       "      <th>0</th>\n",
       "      <td>1000</td>\n",
       "      <td>2024-01-01</td>\n",
       "      <td>Tablet</td>\n",
       "      <td>Electronics</td>\n",
       "      <td>1</td>\n",
       "      <td>409</td>\n",
       "      <td>409</td>\n",
       "      <td>10127</td>\n",
       "      <td>West</td>\n",
       "      <td>Debit Card</td>\n",
       "    </tr>\n",
       "    <tr>\n",
       "      <th>1</th>\n",
       "      <td>1001</td>\n",
       "      <td>2024-01-02</td>\n",
       "      <td>Smartwatch</td>\n",
       "      <td>Electronics</td>\n",
       "      <td>2</td>\n",
       "      <td>949</td>\n",
       "      <td>1898</td>\n",
       "      <td>10084</td>\n",
       "      <td>East</td>\n",
       "      <td>Cash</td>\n",
       "    </tr>\n",
       "    <tr>\n",
       "      <th>2</th>\n",
       "      <td>1002</td>\n",
       "      <td>2024-01-03</td>\n",
       "      <td>Headphones</td>\n",
       "      <td>Electronics</td>\n",
       "      <td>2</td>\n",
       "      <td>330</td>\n",
       "      <td>660</td>\n",
       "      <td>10041</td>\n",
       "      <td>West</td>\n",
       "      <td>Cash</td>\n",
       "    </tr>\n",
       "    <tr>\n",
       "      <th>3</th>\n",
       "      <td>1003</td>\n",
       "      <td>2024-01-04</td>\n",
       "      <td>Smartwatch</td>\n",
       "      <td>Electronics</td>\n",
       "      <td>1</td>\n",
       "      <td>1268</td>\n",
       "      <td>1268</td>\n",
       "      <td>10099</td>\n",
       "      <td>North</td>\n",
       "      <td>Credit Card</td>\n",
       "    </tr>\n",
       "    <tr>\n",
       "      <th>4</th>\n",
       "      <td>1004</td>\n",
       "      <td>2024-01-05</td>\n",
       "      <td>Smartwatch</td>\n",
       "      <td>Electronics</td>\n",
       "      <td>3</td>\n",
       "      <td>1268</td>\n",
       "      <td>3804</td>\n",
       "      <td>10040</td>\n",
       "      <td>North</td>\n",
       "      <td>Credit Card</td>\n",
       "    </tr>\n",
       "    <tr>\n",
       "      <th>...</th>\n",
       "      <td>...</td>\n",
       "      <td>...</td>\n",
       "      <td>...</td>\n",
       "      <td>...</td>\n",
       "      <td>...</td>\n",
       "      <td>...</td>\n",
       "      <td>...</td>\n",
       "      <td>...</td>\n",
       "      <td>...</td>\n",
       "      <td>...</td>\n",
       "    </tr>\n",
       "    <tr>\n",
       "      <th>495</th>\n",
       "      <td>1495</td>\n",
       "      <td>2025-05-10</td>\n",
       "      <td>Tablet</td>\n",
       "      <td>Electronics</td>\n",
       "      <td>3</td>\n",
       "      <td>659</td>\n",
       "      <td>1977</td>\n",
       "      <td>10187</td>\n",
       "      <td>West</td>\n",
       "      <td>Debit Card</td>\n",
       "    </tr>\n",
       "    <tr>\n",
       "      <th>496</th>\n",
       "      <td>1496</td>\n",
       "      <td>2025-05-11</td>\n",
       "      <td>Smartphone</td>\n",
       "      <td>Electronics</td>\n",
       "      <td>2</td>\n",
       "      <td>854</td>\n",
       "      <td>1708</td>\n",
       "      <td>10062</td>\n",
       "      <td>East</td>\n",
       "      <td>Cash</td>\n",
       "    </tr>\n",
       "    <tr>\n",
       "      <th>497</th>\n",
       "      <td>1497</td>\n",
       "      <td>2025-05-12</td>\n",
       "      <td>Smartphone</td>\n",
       "      <td>Electronics</td>\n",
       "      <td>4</td>\n",
       "      <td>124</td>\n",
       "      <td>496</td>\n",
       "      <td>10116</td>\n",
       "      <td>South</td>\n",
       "      <td>Cash</td>\n",
       "    </tr>\n",
       "    <tr>\n",
       "      <th>498</th>\n",
       "      <td>1498</td>\n",
       "      <td>2025-05-13</td>\n",
       "      <td>Smartwatch</td>\n",
       "      <td>Electronics</td>\n",
       "      <td>4</td>\n",
       "      <td>887</td>\n",
       "      <td>3548</td>\n",
       "      <td>10129</td>\n",
       "      <td>South</td>\n",
       "      <td>Credit Card</td>\n",
       "    </tr>\n",
       "    <tr>\n",
       "      <th>499</th>\n",
       "      <td>1499</td>\n",
       "      <td>2025-05-14</td>\n",
       "      <td>Tablet</td>\n",
       "      <td>Electronics</td>\n",
       "      <td>4</td>\n",
       "      <td>1219</td>\n",
       "      <td>4876</td>\n",
       "      <td>10087</td>\n",
       "      <td>South</td>\n",
       "      <td>Debit Card</td>\n",
       "    </tr>\n",
       "  </tbody>\n",
       "</table>\n",
       "<p>500 rows × 10 columns</p>\n",
       "</div>"
      ],
      "text/plain": [
       "     Order ID        Date     Product     Category  Quantity  Unit Price  \\\n",
       "0        1000  2024-01-01      Tablet  Electronics         1         409   \n",
       "1        1001  2024-01-02  Smartwatch  Electronics         2         949   \n",
       "2        1002  2024-01-03  Headphones  Electronics         2         330   \n",
       "3        1003  2024-01-04  Smartwatch  Electronics         1        1268   \n",
       "4        1004  2024-01-05  Smartwatch  Electronics         3        1268   \n",
       "..        ...         ...         ...          ...       ...         ...   \n",
       "495      1495  2025-05-10      Tablet  Electronics         3         659   \n",
       "496      1496  2025-05-11  Smartphone  Electronics         2         854   \n",
       "497      1497  2025-05-12  Smartphone  Electronics         4         124   \n",
       "498      1498  2025-05-13  Smartwatch  Electronics         4         887   \n",
       "499      1499  2025-05-14      Tablet  Electronics         4        1219   \n",
       "\n",
       "     Total Sales  Customer ID Region Payment Method  \n",
       "0            409        10127   West     Debit Card  \n",
       "1           1898        10084   East           Cash  \n",
       "2            660        10041   West           Cash  \n",
       "3           1268        10099  North    Credit Card  \n",
       "4           3804        10040  North    Credit Card  \n",
       "..           ...          ...    ...            ...  \n",
       "495         1977        10187   West     Debit Card  \n",
       "496         1708        10062   East           Cash  \n",
       "497          496        10116  South           Cash  \n",
       "498         3548        10129  South    Credit Card  \n",
       "499         4876        10087  South     Debit Card  \n",
       "\n",
       "[500 rows x 10 columns]"
      ]
     },
     "execution_count": 156,
     "metadata": {},
     "output_type": "execute_result"
    }
   ],
   "source": [
    "data"
   ]
  },
  {
   "cell_type": "markdown",
   "id": "e9d7a218-d955-462e-b6c5-f736caa68a12",
   "metadata": {},
   "source": [
    "performing data preprocessing:"
   ]
  },
  {
   "cell_type": "code",
   "execution_count": 158,
   "id": "f8b7dcb1-fe9e-4878-a256-d9c1f15ae080",
   "metadata": {},
   "outputs": [
    {
     "data": {
      "text/plain": [
       "Order ID          0\n",
       "Date              0\n",
       "Product           0\n",
       "Category          0\n",
       "Quantity          0\n",
       "Unit Price        0\n",
       "Total Sales       0\n",
       "Customer ID       0\n",
       "Region            0\n",
       "Payment Method    0\n",
       "dtype: int64"
      ]
     },
     "execution_count": 158,
     "metadata": {},
     "output_type": "execute_result"
    }
   ],
   "source": [
    "data.isnull().sum()"
   ]
  },
  {
   "cell_type": "code",
   "execution_count": 160,
   "id": "c6b8231c-d96a-42ac-a17a-836c6f3a3dee",
   "metadata": {},
   "outputs": [
    {
     "data": {
      "text/plain": [
       "array(['Headphones', 'Laptop', 'Monitor', 'Smartphone', 'Smartwatch',\n",
       "       'Tablet'], dtype=object)"
      ]
     },
     "execution_count": 160,
     "metadata": {},
     "output_type": "execute_result"
    }
   ],
   "source": [
    "np.unique(data['Product'])"
   ]
  },
  {
   "cell_type": "code",
   "execution_count": 162,
   "id": "67d9b756-8ac9-40bb-83a1-af96151c20f7",
   "metadata": {},
   "outputs": [],
   "source": [
    "products=np.array(['Headphones', 'Laptop', 'Monitor', 'Smartphone', 'Smartwatch','Tablet'])"
   ]
  },
  {
   "cell_type": "code",
   "execution_count": 164,
   "id": "e09f0bc0-83a3-4da0-8903-2ed123b36d44",
   "metadata": {},
   "outputs": [],
   "source": [
    "data=data.values"
   ]
  },
  {
   "cell_type": "code",
   "execution_count": 166,
   "id": "01b4fe7b-cd5e-4eb4-a3eb-8178b40c3872",
   "metadata": {},
   "outputs": [],
   "source": [
    "for i in range(6):\n",
    "    data[:,2]=np.where(data[:,2]==products[i],\n",
    "                      i,data[:,2])"
   ]
  },
  {
   "cell_type": "code",
   "execution_count": 168,
   "id": "4323ac49-f809-4ae7-86d0-2bd873632c92",
   "metadata": {},
   "outputs": [
    {
     "data": {
      "text/plain": [
       "array([[1000, '2024-01-01', 5, ..., 10127, 'West', 'Debit Card'],\n",
       "       [1001, '2024-01-02', 4, ..., 10084, 'East', 'Cash'],\n",
       "       [1002, '2024-01-03', 0, ..., 10041, 'West', 'Cash'],\n",
       "       ...,\n",
       "       [1497, '2025-05-12', 3, ..., 10116, 'South', 'Cash'],\n",
       "       [1498, '2025-05-13', 4, ..., 10129, 'South', 'Credit Card'],\n",
       "       [1499, '2025-05-14', 5, ..., 10087, 'South', 'Debit Card']],\n",
       "      dtype=object)"
      ]
     },
     "execution_count": 168,
     "metadata": {},
     "output_type": "execute_result"
    }
   ],
   "source": [
    "data"
   ]
  },
  {
   "cell_type": "code",
   "execution_count": 170,
   "id": "204b9709-27bb-4942-b256-3dab48fe3013",
   "metadata": {},
   "outputs": [
    {
     "data": {
      "text/plain": [
       "array(['Order ID', 'Date', 'Product', 'Category', 'Quantity',\n",
       "       'Unit Price', 'Total Sales', 'Customer ID', 'Region',\n",
       "       'Payment Method'], dtype='<U14')"
      ]
     },
     "execution_count": 170,
     "metadata": {},
     "output_type": "execute_result"
    }
   ],
   "source": [
    "header = np.genfromtxt('sales_transactions.csv', delimiter=',', max_rows=1, dtype=str, autostrip=True)\n",
    "header"
   ]
  },
  {
   "cell_type": "code",
   "execution_count": 172,
   "id": "78e5aa0c-c658-4dff-b42e-61651577d98b",
   "metadata": {},
   "outputs": [
    {
     "data": {
      "text/plain": [
       "array(['Order ID', 'Date', 'product ID', 'Category', 'Quantity',\n",
       "       'Unit Price', 'Total Sales', 'Customer ID', 'Region',\n",
       "       'Payment Method'], dtype='<U14')"
      ]
     },
     "execution_count": 172,
     "metadata": {},
     "output_type": "execute_result"
    }
   ],
   "source": [
    "header[2]='product ID'\n",
    "header"
   ]
  },
  {
   "cell_type": "code",
   "execution_count": 174,
   "id": "1b78d7d3-9846-455e-9bd6-907dc6603650",
   "metadata": {},
   "outputs": [
    {
     "data": {
      "text/plain": [
       "array(['Electronics'], dtype=object)"
      ]
     },
     "execution_count": 174,
     "metadata": {},
     "output_type": "execute_result"
    }
   ],
   "source": [
    "np.unique(data[:,3])"
   ]
  },
  {
   "cell_type": "code",
   "execution_count": 176,
   "id": "df64347f-9622-47df-b56e-68a7b260987d",
   "metadata": {},
   "outputs": [
    {
     "data": {
      "text/plain": [
       "array(['East', 'North', 'South', 'West'], dtype=object)"
      ]
     },
     "execution_count": 176,
     "metadata": {},
     "output_type": "execute_result"
    }
   ],
   "source": [
    "np.unique(data[:,8])"
   ]
  },
  {
   "cell_type": "code",
   "execution_count": 178,
   "id": "d9d9a72f-0158-4a40-a4e2-b4a28d14fee4",
   "metadata": {},
   "outputs": [],
   "source": [
    "regions=np.array(['North','South','East','West'])"
   ]
  },
  {
   "cell_type": "code",
   "execution_count": 180,
   "id": "0a784dd2-3b24-4a02-a6ac-e255588d30eb",
   "metadata": {},
   "outputs": [
    {
     "data": {
      "text/plain": [
       "array([[1000, '2024-01-01', 5, ..., 10127, 3, 'Debit Card'],\n",
       "       [1001, '2024-01-02', 4, ..., 10084, 2, 'Cash'],\n",
       "       [1002, '2024-01-03', 0, ..., 10041, 3, 'Cash'],\n",
       "       ...,\n",
       "       [1497, '2025-05-12', 3, ..., 10116, 1, 'Cash'],\n",
       "       [1498, '2025-05-13', 4, ..., 10129, 1, 'Credit Card'],\n",
       "       [1499, '2025-05-14', 5, ..., 10087, 1, 'Debit Card']], dtype=object)"
      ]
     },
     "execution_count": 180,
     "metadata": {},
     "output_type": "execute_result"
    }
   ],
   "source": [
    "for i in range(4):\n",
    "    data[:,8]=np.where(data[:,8]==regions[i],i,data[:,8])\n",
    "\n",
    "data"
   ]
  },
  {
   "cell_type": "code",
   "execution_count": 186,
   "id": "b8de5cb1-a21c-4418-943d-9e39daae4ccd",
   "metadata": {},
   "outputs": [
    {
     "data": {
      "text/plain": [
       "array(['Cash', 'Credit Card', 'Debit Card', 'PayPal'], dtype=object)"
      ]
     },
     "execution_count": 186,
     "metadata": {},
     "output_type": "execute_result"
    }
   ],
   "source": [
    "np.unique(data[:,9])"
   ]
  },
  {
   "cell_type": "code",
   "execution_count": 188,
   "id": "25f5006d-0340-4a4c-8db8-322fd7741e95",
   "metadata": {},
   "outputs": [],
   "source": [
    "payment_modes=np.array(['Cash', 'Credit Card', 'Debit Card', 'PayPal'])"
   ]
  },
  {
   "cell_type": "code",
   "execution_count": 190,
   "id": "3ead7e6a-ae13-40fb-b0c7-74b501f74e24",
   "metadata": {},
   "outputs": [
    {
     "data": {
      "text/plain": [
       "array([[1000, '2024-01-01', 5, ..., 10127, 3, 2],\n",
       "       [1001, '2024-01-02', 4, ..., 10084, 2, 0],\n",
       "       [1002, '2024-01-03', 0, ..., 10041, 3, 0],\n",
       "       ...,\n",
       "       [1497, '2025-05-12', 3, ..., 10116, 1, 0],\n",
       "       [1498, '2025-05-13', 4, ..., 10129, 1, 1],\n",
       "       [1499, '2025-05-14', 5, ..., 10087, 1, 2]], dtype=object)"
      ]
     },
     "execution_count": 190,
     "metadata": {},
     "output_type": "execute_result"
    }
   ],
   "source": [
    "for i in range(4):\n",
    "    data[:,9]=np.where(data[:,9]==payment_modes[i],i,data[:,9])\n",
    "\n",
    "data"
   ]
  },
  {
   "cell_type": "code",
   "execution_count": 192,
   "id": "0f47bd95-af61-4731-8bd5-8657cdef111f",
   "metadata": {},
   "outputs": [],
   "source": [
    "data_final = np.vstack((header, data))"
   ]
  },
  {
   "cell_type": "code",
   "execution_count": 194,
   "id": "b9d8c7be-3a75-420b-96b4-29a17dd4060a",
   "metadata": {},
   "outputs": [
    {
     "data": {
      "text/plain": [
       "array([['Order ID', 'Date', 'product ID', ..., 'Customer ID', 'Region',\n",
       "        'Payment Method'],\n",
       "       [1000, '2024-01-01', 5, ..., 10127, 3, 2],\n",
       "       [1001, '2024-01-02', 4, ..., 10084, 2, 0],\n",
       "       ...,\n",
       "       [1497, '2025-05-12', 3, ..., 10116, 1, 0],\n",
       "       [1498, '2025-05-13', 4, ..., 10129, 1, 1],\n",
       "       [1499, '2025-05-14', 5, ..., 10087, 1, 2]], dtype=object)"
      ]
     },
     "execution_count": 194,
     "metadata": {},
     "output_type": "execute_result"
    }
   ],
   "source": [
    "data_final"
   ]
  },
  {
   "cell_type": "markdown",
   "id": "1408e948-5921-48b6-ae2d-1e3014a3dd38",
   "metadata": {},
   "source": [
    "Saving the copy of final dataset as a csv file:"
   ]
  },
  {
   "cell_type": "code",
   "execution_count": null,
   "id": "15dc25a4-8b89-4b49-b4a4-9f858a5c3548",
   "metadata": {},
   "outputs": [],
   "source": [
    "np.savetxt(\"sales_transactions_final.csv\", data_final, delimiter=\",\", fmt=\"%s\")"
   ]
  },
  {
   "cell_type": "markdown",
   "id": "32188f6b-e9f5-4898-9210-88b751f5ed26",
   "metadata": {},
   "source": [
    "Exploratory Data Analysis (EDA)"
   ]
  },
  {
   "cell_type": "code",
   "execution_count": 240,
   "id": "3d8f53f4-1415-4638-ba67-1c83a477b69d",
   "metadata": {},
   "outputs": [
    {
     "name": "stdout",
     "output_type": "stream",
     "text": [
      "Total sales: 926004\n"
     ]
    }
   ],
   "source": [
    "total_sales=data[:,6].sum()\n",
    "print(f\"Total sales: {total_sales}\")"
   ]
  },
  {
   "cell_type": "code",
   "execution_count": 242,
   "id": "698e0508-2619-496f-b7b3-60a543e42246",
   "metadata": {},
   "outputs": [
    {
     "name": "stdout",
     "output_type": "stream",
     "text": [
      "Top selling product: Tablet\n"
     ]
    }
   ],
   "source": [
    "top_selling_productID = np.bincount(data[:, 2].astype(int)).argmax()\n",
    "top_selling_product=products[top_selling_productID]\n",
    "print(f\"Top selling product: {top_selling_product}\")"
   ]
  },
  {
   "cell_type": "code",
   "execution_count": 216,
   "id": "7c4c29cb-25a6-4f21-979a-75d204365862",
   "metadata": {},
   "outputs": [],
   "source": [
    "data_df = pd.read_csv('sales_transactions_final.csv')"
   ]
  },
  {
   "cell_type": "code",
   "execution_count": 218,
   "id": "49295fd3-38cd-4916-8a23-3477744b6b31",
   "metadata": {},
   "outputs": [
    {
     "data": {
      "text/html": [
       "<div>\n",
       "<style scoped>\n",
       "    .dataframe tbody tr th:only-of-type {\n",
       "        vertical-align: middle;\n",
       "    }\n",
       "\n",
       "    .dataframe tbody tr th {\n",
       "        vertical-align: top;\n",
       "    }\n",
       "\n",
       "    .dataframe thead th {\n",
       "        text-align: right;\n",
       "    }\n",
       "</style>\n",
       "<table border=\"1\" class=\"dataframe\">\n",
       "  <thead>\n",
       "    <tr style=\"text-align: right;\">\n",
       "      <th></th>\n",
       "      <th>Order ID</th>\n",
       "      <th>Date</th>\n",
       "      <th>product ID</th>\n",
       "      <th>Category</th>\n",
       "      <th>Quantity</th>\n",
       "      <th>Unit Price</th>\n",
       "      <th>Total Sales</th>\n",
       "      <th>Customer ID</th>\n",
       "      <th>Region</th>\n",
       "      <th>Payment Method</th>\n",
       "    </tr>\n",
       "  </thead>\n",
       "  <tbody>\n",
       "    <tr>\n",
       "      <th>0</th>\n",
       "      <td>1000</td>\n",
       "      <td>2024-01-01</td>\n",
       "      <td>5</td>\n",
       "      <td>Electronics</td>\n",
       "      <td>1</td>\n",
       "      <td>409</td>\n",
       "      <td>409</td>\n",
       "      <td>10127</td>\n",
       "      <td>3</td>\n",
       "      <td>2</td>\n",
       "    </tr>\n",
       "    <tr>\n",
       "      <th>1</th>\n",
       "      <td>1001</td>\n",
       "      <td>2024-01-02</td>\n",
       "      <td>4</td>\n",
       "      <td>Electronics</td>\n",
       "      <td>2</td>\n",
       "      <td>949</td>\n",
       "      <td>1898</td>\n",
       "      <td>10084</td>\n",
       "      <td>2</td>\n",
       "      <td>0</td>\n",
       "    </tr>\n",
       "    <tr>\n",
       "      <th>2</th>\n",
       "      <td>1002</td>\n",
       "      <td>2024-01-03</td>\n",
       "      <td>0</td>\n",
       "      <td>Electronics</td>\n",
       "      <td>2</td>\n",
       "      <td>330</td>\n",
       "      <td>660</td>\n",
       "      <td>10041</td>\n",
       "      <td>3</td>\n",
       "      <td>0</td>\n",
       "    </tr>\n",
       "    <tr>\n",
       "      <th>3</th>\n",
       "      <td>1003</td>\n",
       "      <td>2024-01-04</td>\n",
       "      <td>4</td>\n",
       "      <td>Electronics</td>\n",
       "      <td>1</td>\n",
       "      <td>1268</td>\n",
       "      <td>1268</td>\n",
       "      <td>10099</td>\n",
       "      <td>0</td>\n",
       "      <td>1</td>\n",
       "    </tr>\n",
       "    <tr>\n",
       "      <th>4</th>\n",
       "      <td>1004</td>\n",
       "      <td>2024-01-05</td>\n",
       "      <td>4</td>\n",
       "      <td>Electronics</td>\n",
       "      <td>3</td>\n",
       "      <td>1268</td>\n",
       "      <td>3804</td>\n",
       "      <td>10040</td>\n",
       "      <td>0</td>\n",
       "      <td>1</td>\n",
       "    </tr>\n",
       "    <tr>\n",
       "      <th>...</th>\n",
       "      <td>...</td>\n",
       "      <td>...</td>\n",
       "      <td>...</td>\n",
       "      <td>...</td>\n",
       "      <td>...</td>\n",
       "      <td>...</td>\n",
       "      <td>...</td>\n",
       "      <td>...</td>\n",
       "      <td>...</td>\n",
       "      <td>...</td>\n",
       "    </tr>\n",
       "    <tr>\n",
       "      <th>495</th>\n",
       "      <td>1495</td>\n",
       "      <td>2025-05-10</td>\n",
       "      <td>5</td>\n",
       "      <td>Electronics</td>\n",
       "      <td>3</td>\n",
       "      <td>659</td>\n",
       "      <td>1977</td>\n",
       "      <td>10187</td>\n",
       "      <td>3</td>\n",
       "      <td>2</td>\n",
       "    </tr>\n",
       "    <tr>\n",
       "      <th>496</th>\n",
       "      <td>1496</td>\n",
       "      <td>2025-05-11</td>\n",
       "      <td>3</td>\n",
       "      <td>Electronics</td>\n",
       "      <td>2</td>\n",
       "      <td>854</td>\n",
       "      <td>1708</td>\n",
       "      <td>10062</td>\n",
       "      <td>2</td>\n",
       "      <td>0</td>\n",
       "    </tr>\n",
       "    <tr>\n",
       "      <th>497</th>\n",
       "      <td>1497</td>\n",
       "      <td>2025-05-12</td>\n",
       "      <td>3</td>\n",
       "      <td>Electronics</td>\n",
       "      <td>4</td>\n",
       "      <td>124</td>\n",
       "      <td>496</td>\n",
       "      <td>10116</td>\n",
       "      <td>1</td>\n",
       "      <td>0</td>\n",
       "    </tr>\n",
       "    <tr>\n",
       "      <th>498</th>\n",
       "      <td>1498</td>\n",
       "      <td>2025-05-13</td>\n",
       "      <td>4</td>\n",
       "      <td>Electronics</td>\n",
       "      <td>4</td>\n",
       "      <td>887</td>\n",
       "      <td>3548</td>\n",
       "      <td>10129</td>\n",
       "      <td>1</td>\n",
       "      <td>1</td>\n",
       "    </tr>\n",
       "    <tr>\n",
       "      <th>499</th>\n",
       "      <td>1499</td>\n",
       "      <td>2025-05-14</td>\n",
       "      <td>5</td>\n",
       "      <td>Electronics</td>\n",
       "      <td>4</td>\n",
       "      <td>1219</td>\n",
       "      <td>4876</td>\n",
       "      <td>10087</td>\n",
       "      <td>1</td>\n",
       "      <td>2</td>\n",
       "    </tr>\n",
       "  </tbody>\n",
       "</table>\n",
       "<p>500 rows × 10 columns</p>\n",
       "</div>"
      ],
      "text/plain": [
       "     Order ID        Date  product ID     Category  Quantity  Unit Price  \\\n",
       "0        1000  2024-01-01           5  Electronics         1         409   \n",
       "1        1001  2024-01-02           4  Electronics         2         949   \n",
       "2        1002  2024-01-03           0  Electronics         2         330   \n",
       "3        1003  2024-01-04           4  Electronics         1        1268   \n",
       "4        1004  2024-01-05           4  Electronics         3        1268   \n",
       "..        ...         ...         ...          ...       ...         ...   \n",
       "495      1495  2025-05-10           5  Electronics         3         659   \n",
       "496      1496  2025-05-11           3  Electronics         2         854   \n",
       "497      1497  2025-05-12           3  Electronics         4         124   \n",
       "498      1498  2025-05-13           4  Electronics         4         887   \n",
       "499      1499  2025-05-14           5  Electronics         4        1219   \n",
       "\n",
       "     Total Sales  Customer ID  Region  Payment Method  \n",
       "0            409        10127       3               2  \n",
       "1           1898        10084       2               0  \n",
       "2            660        10041       3               0  \n",
       "3           1268        10099       0               1  \n",
       "4           3804        10040       0               1  \n",
       "..           ...          ...     ...             ...  \n",
       "495         1977        10187       3               2  \n",
       "496         1708        10062       2               0  \n",
       "497          496        10116       1               0  \n",
       "498         3548        10129       1               1  \n",
       "499         4876        10087       1               2  \n",
       "\n",
       "[500 rows x 10 columns]"
      ]
     },
     "execution_count": 218,
     "metadata": {},
     "output_type": "execute_result"
    }
   ],
   "source": [
    "data_df"
   ]
  },
  {
   "cell_type": "code",
   "execution_count": 222,
   "id": "a4e4aa98-d289-4cb4-b5f6-1a0f452817b0",
   "metadata": {},
   "outputs": [
    {
     "data": {
      "text/html": [
       "<div>\n",
       "<style scoped>\n",
       "    .dataframe tbody tr th:only-of-type {\n",
       "        vertical-align: middle;\n",
       "    }\n",
       "\n",
       "    .dataframe tbody tr th {\n",
       "        vertical-align: top;\n",
       "    }\n",
       "\n",
       "    .dataframe thead th {\n",
       "        text-align: right;\n",
       "    }\n",
       "</style>\n",
       "<table border=\"1\" class=\"dataframe\">\n",
       "  <thead>\n",
       "    <tr style=\"text-align: right;\">\n",
       "      <th></th>\n",
       "      <th>Order ID</th>\n",
       "      <th>Date</th>\n",
       "      <th>product ID</th>\n",
       "      <th>Category</th>\n",
       "      <th>Quantity</th>\n",
       "      <th>Unit Price</th>\n",
       "      <th>Total Sales</th>\n",
       "      <th>Customer ID</th>\n",
       "      <th>Region</th>\n",
       "      <th>Payment Method</th>\n",
       "    </tr>\n",
       "  </thead>\n",
       "  <tbody>\n",
       "    <tr>\n",
       "      <th>0</th>\n",
       "      <td>1000</td>\n",
       "      <td>2024-01-01</td>\n",
       "      <td>5</td>\n",
       "      <td>Electronics</td>\n",
       "      <td>1</td>\n",
       "      <td>409</td>\n",
       "      <td>409</td>\n",
       "      <td>10127</td>\n",
       "      <td>3</td>\n",
       "      <td>2</td>\n",
       "    </tr>\n",
       "    <tr>\n",
       "      <th>1</th>\n",
       "      <td>1001</td>\n",
       "      <td>2024-01-02</td>\n",
       "      <td>4</td>\n",
       "      <td>Electronics</td>\n",
       "      <td>2</td>\n",
       "      <td>949</td>\n",
       "      <td>1898</td>\n",
       "      <td>10084</td>\n",
       "      <td>2</td>\n",
       "      <td>0</td>\n",
       "    </tr>\n",
       "    <tr>\n",
       "      <th>2</th>\n",
       "      <td>1002</td>\n",
       "      <td>2024-01-03</td>\n",
       "      <td>0</td>\n",
       "      <td>Electronics</td>\n",
       "      <td>2</td>\n",
       "      <td>330</td>\n",
       "      <td>660</td>\n",
       "      <td>10041</td>\n",
       "      <td>3</td>\n",
       "      <td>0</td>\n",
       "    </tr>\n",
       "    <tr>\n",
       "      <th>3</th>\n",
       "      <td>1003</td>\n",
       "      <td>2024-01-04</td>\n",
       "      <td>4</td>\n",
       "      <td>Electronics</td>\n",
       "      <td>1</td>\n",
       "      <td>1268</td>\n",
       "      <td>1268</td>\n",
       "      <td>10099</td>\n",
       "      <td>0</td>\n",
       "      <td>1</td>\n",
       "    </tr>\n",
       "    <tr>\n",
       "      <th>4</th>\n",
       "      <td>1004</td>\n",
       "      <td>2024-01-05</td>\n",
       "      <td>4</td>\n",
       "      <td>Electronics</td>\n",
       "      <td>3</td>\n",
       "      <td>1268</td>\n",
       "      <td>3804</td>\n",
       "      <td>10040</td>\n",
       "      <td>0</td>\n",
       "      <td>1</td>\n",
       "    </tr>\n",
       "    <tr>\n",
       "      <th>...</th>\n",
       "      <td>...</td>\n",
       "      <td>...</td>\n",
       "      <td>...</td>\n",
       "      <td>...</td>\n",
       "      <td>...</td>\n",
       "      <td>...</td>\n",
       "      <td>...</td>\n",
       "      <td>...</td>\n",
       "      <td>...</td>\n",
       "      <td>...</td>\n",
       "    </tr>\n",
       "    <tr>\n",
       "      <th>495</th>\n",
       "      <td>1495</td>\n",
       "      <td>2025-05-10</td>\n",
       "      <td>5</td>\n",
       "      <td>Electronics</td>\n",
       "      <td>3</td>\n",
       "      <td>659</td>\n",
       "      <td>1977</td>\n",
       "      <td>10187</td>\n",
       "      <td>3</td>\n",
       "      <td>2</td>\n",
       "    </tr>\n",
       "    <tr>\n",
       "      <th>496</th>\n",
       "      <td>1496</td>\n",
       "      <td>2025-05-11</td>\n",
       "      <td>3</td>\n",
       "      <td>Electronics</td>\n",
       "      <td>2</td>\n",
       "      <td>854</td>\n",
       "      <td>1708</td>\n",
       "      <td>10062</td>\n",
       "      <td>2</td>\n",
       "      <td>0</td>\n",
       "    </tr>\n",
       "    <tr>\n",
       "      <th>497</th>\n",
       "      <td>1497</td>\n",
       "      <td>2025-05-12</td>\n",
       "      <td>3</td>\n",
       "      <td>Electronics</td>\n",
       "      <td>4</td>\n",
       "      <td>124</td>\n",
       "      <td>496</td>\n",
       "      <td>10116</td>\n",
       "      <td>1</td>\n",
       "      <td>0</td>\n",
       "    </tr>\n",
       "    <tr>\n",
       "      <th>498</th>\n",
       "      <td>1498</td>\n",
       "      <td>2025-05-13</td>\n",
       "      <td>4</td>\n",
       "      <td>Electronics</td>\n",
       "      <td>4</td>\n",
       "      <td>887</td>\n",
       "      <td>3548</td>\n",
       "      <td>10129</td>\n",
       "      <td>1</td>\n",
       "      <td>1</td>\n",
       "    </tr>\n",
       "    <tr>\n",
       "      <th>499</th>\n",
       "      <td>1499</td>\n",
       "      <td>2025-05-14</td>\n",
       "      <td>5</td>\n",
       "      <td>Electronics</td>\n",
       "      <td>4</td>\n",
       "      <td>1219</td>\n",
       "      <td>4876</td>\n",
       "      <td>10087</td>\n",
       "      <td>1</td>\n",
       "      <td>2</td>\n",
       "    </tr>\n",
       "  </tbody>\n",
       "</table>\n",
       "<p>500 rows × 10 columns</p>\n",
       "</div>"
      ],
      "text/plain": [
       "     Order ID       Date  product ID     Category  Quantity  Unit Price  \\\n",
       "0        1000 2024-01-01           5  Electronics         1         409   \n",
       "1        1001 2024-01-02           4  Electronics         2         949   \n",
       "2        1002 2024-01-03           0  Electronics         2         330   \n",
       "3        1003 2024-01-04           4  Electronics         1        1268   \n",
       "4        1004 2024-01-05           4  Electronics         3        1268   \n",
       "..        ...        ...         ...          ...       ...         ...   \n",
       "495      1495 2025-05-10           5  Electronics         3         659   \n",
       "496      1496 2025-05-11           3  Electronics         2         854   \n",
       "497      1497 2025-05-12           3  Electronics         4         124   \n",
       "498      1498 2025-05-13           4  Electronics         4         887   \n",
       "499      1499 2025-05-14           5  Electronics         4        1219   \n",
       "\n",
       "     Total Sales  Customer ID  Region  Payment Method  \n",
       "0            409        10127       3               2  \n",
       "1           1898        10084       2               0  \n",
       "2            660        10041       3               0  \n",
       "3           1268        10099       0               1  \n",
       "4           3804        10040       0               1  \n",
       "..           ...          ...     ...             ...  \n",
       "495         1977        10187       3               2  \n",
       "496         1708        10062       2               0  \n",
       "497          496        10116       1               0  \n",
       "498         3548        10129       1               1  \n",
       "499         4876        10087       1               2  \n",
       "\n",
       "[500 rows x 10 columns]"
      ]
     },
     "execution_count": 222,
     "metadata": {},
     "output_type": "execute_result"
    }
   ],
   "source": [
    "data_df['Date'] = pd.to_datetime(data_df['Date'])\n",
    "data_df"
   ]
  },
  {
   "cell_type": "code",
   "execution_count": 224,
   "id": "d86a84bd-2aa4-44f2-b82a-99d80b77b6be",
   "metadata": {},
   "outputs": [],
   "source": [
    "data_df['Year'] = data_df['Date'].dt.year\n",
    "data_df['Month'] = data_df['Date'].dt.month"
   ]
  },
  {
   "cell_type": "code",
   "execution_count": 226,
   "id": "2e0e507d-e794-4f19-99a1-b0a4d4527d48",
   "metadata": {},
   "outputs": [
    {
     "data": {
      "text/html": [
       "<div>\n",
       "<style scoped>\n",
       "    .dataframe tbody tr th:only-of-type {\n",
       "        vertical-align: middle;\n",
       "    }\n",
       "\n",
       "    .dataframe tbody tr th {\n",
       "        vertical-align: top;\n",
       "    }\n",
       "\n",
       "    .dataframe thead th {\n",
       "        text-align: right;\n",
       "    }\n",
       "</style>\n",
       "<table border=\"1\" class=\"dataframe\">\n",
       "  <thead>\n",
       "    <tr style=\"text-align: right;\">\n",
       "      <th></th>\n",
       "      <th>Order ID</th>\n",
       "      <th>Date</th>\n",
       "      <th>product ID</th>\n",
       "      <th>Category</th>\n",
       "      <th>Quantity</th>\n",
       "      <th>Unit Price</th>\n",
       "      <th>Total Sales</th>\n",
       "      <th>Customer ID</th>\n",
       "      <th>Region</th>\n",
       "      <th>Payment Method</th>\n",
       "      <th>Year</th>\n",
       "      <th>Month</th>\n",
       "    </tr>\n",
       "  </thead>\n",
       "  <tbody>\n",
       "    <tr>\n",
       "      <th>0</th>\n",
       "      <td>1000</td>\n",
       "      <td>2024-01-01</td>\n",
       "      <td>5</td>\n",
       "      <td>Electronics</td>\n",
       "      <td>1</td>\n",
       "      <td>409</td>\n",
       "      <td>409</td>\n",
       "      <td>10127</td>\n",
       "      <td>3</td>\n",
       "      <td>2</td>\n",
       "      <td>2024</td>\n",
       "      <td>1</td>\n",
       "    </tr>\n",
       "    <tr>\n",
       "      <th>1</th>\n",
       "      <td>1001</td>\n",
       "      <td>2024-01-02</td>\n",
       "      <td>4</td>\n",
       "      <td>Electronics</td>\n",
       "      <td>2</td>\n",
       "      <td>949</td>\n",
       "      <td>1898</td>\n",
       "      <td>10084</td>\n",
       "      <td>2</td>\n",
       "      <td>0</td>\n",
       "      <td>2024</td>\n",
       "      <td>1</td>\n",
       "    </tr>\n",
       "    <tr>\n",
       "      <th>2</th>\n",
       "      <td>1002</td>\n",
       "      <td>2024-01-03</td>\n",
       "      <td>0</td>\n",
       "      <td>Electronics</td>\n",
       "      <td>2</td>\n",
       "      <td>330</td>\n",
       "      <td>660</td>\n",
       "      <td>10041</td>\n",
       "      <td>3</td>\n",
       "      <td>0</td>\n",
       "      <td>2024</td>\n",
       "      <td>1</td>\n",
       "    </tr>\n",
       "    <tr>\n",
       "      <th>3</th>\n",
       "      <td>1003</td>\n",
       "      <td>2024-01-04</td>\n",
       "      <td>4</td>\n",
       "      <td>Electronics</td>\n",
       "      <td>1</td>\n",
       "      <td>1268</td>\n",
       "      <td>1268</td>\n",
       "      <td>10099</td>\n",
       "      <td>0</td>\n",
       "      <td>1</td>\n",
       "      <td>2024</td>\n",
       "      <td>1</td>\n",
       "    </tr>\n",
       "    <tr>\n",
       "      <th>4</th>\n",
       "      <td>1004</td>\n",
       "      <td>2024-01-05</td>\n",
       "      <td>4</td>\n",
       "      <td>Electronics</td>\n",
       "      <td>3</td>\n",
       "      <td>1268</td>\n",
       "      <td>3804</td>\n",
       "      <td>10040</td>\n",
       "      <td>0</td>\n",
       "      <td>1</td>\n",
       "      <td>2024</td>\n",
       "      <td>1</td>\n",
       "    </tr>\n",
       "    <tr>\n",
       "      <th>...</th>\n",
       "      <td>...</td>\n",
       "      <td>...</td>\n",
       "      <td>...</td>\n",
       "      <td>...</td>\n",
       "      <td>...</td>\n",
       "      <td>...</td>\n",
       "      <td>...</td>\n",
       "      <td>...</td>\n",
       "      <td>...</td>\n",
       "      <td>...</td>\n",
       "      <td>...</td>\n",
       "      <td>...</td>\n",
       "    </tr>\n",
       "    <tr>\n",
       "      <th>495</th>\n",
       "      <td>1495</td>\n",
       "      <td>2025-05-10</td>\n",
       "      <td>5</td>\n",
       "      <td>Electronics</td>\n",
       "      <td>3</td>\n",
       "      <td>659</td>\n",
       "      <td>1977</td>\n",
       "      <td>10187</td>\n",
       "      <td>3</td>\n",
       "      <td>2</td>\n",
       "      <td>2025</td>\n",
       "      <td>5</td>\n",
       "    </tr>\n",
       "    <tr>\n",
       "      <th>496</th>\n",
       "      <td>1496</td>\n",
       "      <td>2025-05-11</td>\n",
       "      <td>3</td>\n",
       "      <td>Electronics</td>\n",
       "      <td>2</td>\n",
       "      <td>854</td>\n",
       "      <td>1708</td>\n",
       "      <td>10062</td>\n",
       "      <td>2</td>\n",
       "      <td>0</td>\n",
       "      <td>2025</td>\n",
       "      <td>5</td>\n",
       "    </tr>\n",
       "    <tr>\n",
       "      <th>497</th>\n",
       "      <td>1497</td>\n",
       "      <td>2025-05-12</td>\n",
       "      <td>3</td>\n",
       "      <td>Electronics</td>\n",
       "      <td>4</td>\n",
       "      <td>124</td>\n",
       "      <td>496</td>\n",
       "      <td>10116</td>\n",
       "      <td>1</td>\n",
       "      <td>0</td>\n",
       "      <td>2025</td>\n",
       "      <td>5</td>\n",
       "    </tr>\n",
       "    <tr>\n",
       "      <th>498</th>\n",
       "      <td>1498</td>\n",
       "      <td>2025-05-13</td>\n",
       "      <td>4</td>\n",
       "      <td>Electronics</td>\n",
       "      <td>4</td>\n",
       "      <td>887</td>\n",
       "      <td>3548</td>\n",
       "      <td>10129</td>\n",
       "      <td>1</td>\n",
       "      <td>1</td>\n",
       "      <td>2025</td>\n",
       "      <td>5</td>\n",
       "    </tr>\n",
       "    <tr>\n",
       "      <th>499</th>\n",
       "      <td>1499</td>\n",
       "      <td>2025-05-14</td>\n",
       "      <td>5</td>\n",
       "      <td>Electronics</td>\n",
       "      <td>4</td>\n",
       "      <td>1219</td>\n",
       "      <td>4876</td>\n",
       "      <td>10087</td>\n",
       "      <td>1</td>\n",
       "      <td>2</td>\n",
       "      <td>2025</td>\n",
       "      <td>5</td>\n",
       "    </tr>\n",
       "  </tbody>\n",
       "</table>\n",
       "<p>500 rows × 12 columns</p>\n",
       "</div>"
      ],
      "text/plain": [
       "     Order ID       Date  product ID     Category  Quantity  Unit Price  \\\n",
       "0        1000 2024-01-01           5  Electronics         1         409   \n",
       "1        1001 2024-01-02           4  Electronics         2         949   \n",
       "2        1002 2024-01-03           0  Electronics         2         330   \n",
       "3        1003 2024-01-04           4  Electronics         1        1268   \n",
       "4        1004 2024-01-05           4  Electronics         3        1268   \n",
       "..        ...        ...         ...          ...       ...         ...   \n",
       "495      1495 2025-05-10           5  Electronics         3         659   \n",
       "496      1496 2025-05-11           3  Electronics         2         854   \n",
       "497      1497 2025-05-12           3  Electronics         4         124   \n",
       "498      1498 2025-05-13           4  Electronics         4         887   \n",
       "499      1499 2025-05-14           5  Electronics         4        1219   \n",
       "\n",
       "     Total Sales  Customer ID  Region  Payment Method  Year  Month  \n",
       "0            409        10127       3               2  2024      1  \n",
       "1           1898        10084       2               0  2024      1  \n",
       "2            660        10041       3               0  2024      1  \n",
       "3           1268        10099       0               1  2024      1  \n",
       "4           3804        10040       0               1  2024      1  \n",
       "..           ...          ...     ...             ...   ...    ...  \n",
       "495         1977        10187       3               2  2025      5  \n",
       "496         1708        10062       2               0  2025      5  \n",
       "497          496        10116       1               0  2025      5  \n",
       "498         3548        10129       1               1  2025      5  \n",
       "499         4876        10087       1               2  2025      5  \n",
       "\n",
       "[500 rows x 12 columns]"
      ]
     },
     "execution_count": 226,
     "metadata": {},
     "output_type": "execute_result"
    }
   ],
   "source": [
    "data_df"
   ]
  },
  {
   "cell_type": "code",
   "execution_count": 230,
   "id": "0fc2416b-8306-42d2-ab6f-dc57e96d18c4",
   "metadata": {},
   "outputs": [
    {
     "data": {
      "text/plain": [
       "Year\n",
       "2024    668324\n",
       "2025    257680\n",
       "Name: Total Sales, dtype: int64"
      ]
     },
     "execution_count": 230,
     "metadata": {},
     "output_type": "execute_result"
    }
   ],
   "source": [
    "yearly_revenue = data_df.groupby('Year')['Total Sales'].sum()\n",
    "yearly_revenue"
   ]
  },
  {
   "cell_type": "code",
   "execution_count": 234,
   "id": "4f0f10e8-872c-43b8-8d99-90141e7b1f42",
   "metadata": {},
   "outputs": [
    {
     "data": {
      "text/plain": [
       "Year  Month\n",
       "2024  1        64329\n",
       "      2        44052\n",
       "      3        52866\n",
       "      4        57753\n",
       "      5        57309\n",
       "      6        44609\n",
       "      7        52147\n",
       "      8        61003\n",
       "      9        54142\n",
       "      10       70954\n",
       "      11       58874\n",
       "      12       50286\n",
       "2025  1        47249\n",
       "      2        58847\n",
       "      3        57450\n",
       "      4        59298\n",
       "      5        34836\n",
       "Name: Total Sales, dtype: int64"
      ]
     },
     "execution_count": 234,
     "metadata": {},
     "output_type": "execute_result"
    }
   ],
   "source": [
    "monthly_revenue = data_df.groupby(['Year', 'Month'])['Total Sales'].sum()\n",
    "monthly_revenue"
   ]
  },
  {
   "cell_type": "code",
   "execution_count": 244,
   "id": "791916b3-fc08-48ba-bd2c-87ba9645cd89",
   "metadata": {},
   "outputs": [
    {
     "name": "stdout",
     "output_type": "stream",
     "text": [
      "Average spending per customer: 4951.893048128342\n"
     ]
    }
   ],
   "source": [
    "customer_revenue = data_df.groupby('Customer ID')['Total Sales'].sum()\n",
    "average_spending = customer_revenue.mean()\n",
    "print(f\"Average spending per customer: {average_spending}\")"
   ]
  },
  {
   "cell_type": "code",
   "execution_count": 248,
   "id": "e62003ed-e22e-48e5-8168-7fb152637252",
   "metadata": {},
   "outputs": [
    {
     "name": "stdout",
     "output_type": "stream",
     "text": [
      "Number of customers: 187\n",
      "Number of repeat customers: 140\n"
     ]
    }
   ],
   "source": [
    "customer_purchase_count = data_df.groupby('Customer ID').size()\n",
    "repeat_customers = customer_purchase_count[customer_purchase_count > 1]\n",
    "print(f\"Number of customers: {len(customer_purchase_count)}\")\n",
    "print(f\"Number of repeat customers: {len(repeat_customers)}\")"
   ]
  },
  {
   "cell_type": "raw",
   "id": "53bc2af1-412b-48b5-b342-ccbbbf437ae2",
   "metadata": {},
   "source": [
    "Data Visualization"
   ]
  },
  {
   "cell_type": "code",
   "execution_count": 252,
   "id": "4c2c5e46-5aaf-48d4-a7ca-04fc8c2ef765",
   "metadata": {},
   "outputs": [
    {
     "data": {
      "text/html": [
       "<div>\n",
       "<style scoped>\n",
       "    .dataframe tbody tr th:only-of-type {\n",
       "        vertical-align: middle;\n",
       "    }\n",
       "\n",
       "    .dataframe tbody tr th {\n",
       "        vertical-align: top;\n",
       "    }\n",
       "\n",
       "    .dataframe thead th {\n",
       "        text-align: right;\n",
       "    }\n",
       "</style>\n",
       "<table border=\"1\" class=\"dataframe\">\n",
       "  <thead>\n",
       "    <tr style=\"text-align: right;\">\n",
       "      <th></th>\n",
       "      <th>Order ID</th>\n",
       "      <th>Date</th>\n",
       "      <th>product ID</th>\n",
       "      <th>Category</th>\n",
       "      <th>Quantity</th>\n",
       "      <th>Unit Price</th>\n",
       "      <th>Total Sales</th>\n",
       "      <th>Customer ID</th>\n",
       "      <th>Region</th>\n",
       "      <th>Payment Method</th>\n",
       "      <th>Year</th>\n",
       "      <th>Month</th>\n",
       "    </tr>\n",
       "  </thead>\n",
       "  <tbody>\n",
       "    <tr>\n",
       "      <th>0</th>\n",
       "      <td>1000</td>\n",
       "      <td>2024-01-01</td>\n",
       "      <td>5</td>\n",
       "      <td>Electronics</td>\n",
       "      <td>1</td>\n",
       "      <td>409</td>\n",
       "      <td>409</td>\n",
       "      <td>10127</td>\n",
       "      <td>3</td>\n",
       "      <td>2</td>\n",
       "      <td>2024</td>\n",
       "      <td>1</td>\n",
       "    </tr>\n",
       "    <tr>\n",
       "      <th>1</th>\n",
       "      <td>1001</td>\n",
       "      <td>2024-01-02</td>\n",
       "      <td>4</td>\n",
       "      <td>Electronics</td>\n",
       "      <td>2</td>\n",
       "      <td>949</td>\n",
       "      <td>1898</td>\n",
       "      <td>10084</td>\n",
       "      <td>2</td>\n",
       "      <td>0</td>\n",
       "      <td>2024</td>\n",
       "      <td>1</td>\n",
       "    </tr>\n",
       "    <tr>\n",
       "      <th>2</th>\n",
       "      <td>1002</td>\n",
       "      <td>2024-01-03</td>\n",
       "      <td>0</td>\n",
       "      <td>Electronics</td>\n",
       "      <td>2</td>\n",
       "      <td>330</td>\n",
       "      <td>660</td>\n",
       "      <td>10041</td>\n",
       "      <td>3</td>\n",
       "      <td>0</td>\n",
       "      <td>2024</td>\n",
       "      <td>1</td>\n",
       "    </tr>\n",
       "    <tr>\n",
       "      <th>3</th>\n",
       "      <td>1003</td>\n",
       "      <td>2024-01-04</td>\n",
       "      <td>4</td>\n",
       "      <td>Electronics</td>\n",
       "      <td>1</td>\n",
       "      <td>1268</td>\n",
       "      <td>1268</td>\n",
       "      <td>10099</td>\n",
       "      <td>0</td>\n",
       "      <td>1</td>\n",
       "      <td>2024</td>\n",
       "      <td>1</td>\n",
       "    </tr>\n",
       "    <tr>\n",
       "      <th>4</th>\n",
       "      <td>1004</td>\n",
       "      <td>2024-01-05</td>\n",
       "      <td>4</td>\n",
       "      <td>Electronics</td>\n",
       "      <td>3</td>\n",
       "      <td>1268</td>\n",
       "      <td>3804</td>\n",
       "      <td>10040</td>\n",
       "      <td>0</td>\n",
       "      <td>1</td>\n",
       "      <td>2024</td>\n",
       "      <td>1</td>\n",
       "    </tr>\n",
       "  </tbody>\n",
       "</table>\n",
       "</div>"
      ],
      "text/plain": [
       "   Order ID       Date  product ID     Category  Quantity  Unit Price  \\\n",
       "0      1000 2024-01-01           5  Electronics         1         409   \n",
       "1      1001 2024-01-02           4  Electronics         2         949   \n",
       "2      1002 2024-01-03           0  Electronics         2         330   \n",
       "3      1003 2024-01-04           4  Electronics         1        1268   \n",
       "4      1004 2024-01-05           4  Electronics         3        1268   \n",
       "\n",
       "   Total Sales  Customer ID  Region  Payment Method  Year  Month  \n",
       "0          409        10127       3               2  2024      1  \n",
       "1         1898        10084       2               0  2024      1  \n",
       "2          660        10041       3               0  2024      1  \n",
       "3         1268        10099       0               1  2024      1  \n",
       "4         3804        10040       0               1  2024      1  "
      ]
     },
     "execution_count": 252,
     "metadata": {},
     "output_type": "execute_result"
    }
   ],
   "source": [
    "data_df.head()"
   ]
  },
  {
   "cell_type": "code",
   "execution_count": 278,
   "id": "f181d8db-11b6-4fbe-ba2d-41979566f66d",
   "metadata": {},
   "outputs": [
    {
     "data": {
      "image/png": "[encoded data removed]",
      "text/plain": [
       "<Figure size 600x600 with 1 Axes>"
      ]
     },
     "metadata": {},
     "output_type": "display_data"
    }
   ],
   "source": [
    "plt.figure(figsize=(6,6))\n",
    "top_selling_products = data_df.groupby('product ID')['Total Sales'].sum().sort_values(ascending=False)\n",
    "product_names = [products[i] for i in top_selling_products.keys()]\n",
    "plt.bar(product_names, top_selling_products, color='skyblue')\n",
    "plt.title('Top Selling Products')\n",
    "plt.ylabel('Total Sales (Revenue)')\n",
    "plt.xticks(rotation=45, ha='right')\n",
    "plt.show()"
   ]
  },
  {
   "cell_type": "code",
   "execution_count": 305,
   "id": "5151d05e-97d5-473d-b4dc-36f365954e2f",
   "metadata": {},
   "outputs": [
    {
     "data": {
      "image/png": "[encoded data removed]",
      "text/plain": [
       "<Figure size 600x600 with 1 Axes>"
      ]
     },
     "metadata": {},
     "output_type": "display_data"
    }
   ],
   "source": [
    "import matplotlib.pyplot as plt\n",
    "import pandas as pd\n",
    "\n",
    "top_selling_products = {\n",
    "    'Headphones': 179546,\n",
    "    'Laptop': 171740,\n",
    "    'Monitor': 168883,\n",
    "    'Smartphone': 145482,\n",
    "    'Smartwatch': 137725,\n",
    "    'Tablet': 122628\n",
    "}\n",
    "df_top_selling_products = pd.DataFrame(list(top_selling_products.items()), columns=['Product', 'Total Sales'])\n",
    "plt.figure(figsize=(6, 6))\n",
    "plt.pie(df_top_selling_products['Total Sales'], labels=df_top_selling_products['Product'], autopct='%1.1f%%', startangle=90, colors=['#ff9999','#66b3ff','#99ff99','#ffcc99','#ffb3e6','#c2f0c2'])\n",
    "plt.title('Top Selling Products')\n",
    "plt.ylabel('') \n",
    "plt.show()\n"
   ]
  },
  {
   "cell_type": "code",
   "execution_count": 311,
   "id": "26d1d05e-9462-47f1-a868-ec0522389785",
   "metadata": {},
   "outputs": [
    {
     "data": {
      "image/png": "[encoded data removed]",
      "text/plain": [
       "<Figure size 1000x600 with 1 Axes>"
      ]
     },
     "metadata": {},
     "output_type": "display_data"
    }
   ],
   "source": [
    "plt.figure(figsize=(10, 6))\n",
    "plt.hist(data_df['Total Sales'], bins=30, color='lightcoral', edgecolor='black')\n",
    "plt.title('Order Frequency by Total Sales Amount')\n",
    "plt.xlabel('Total Sales')\n",
    "plt.ylabel('Frequency')\n",
    "plt.show()"
   ]
  },
  {
   "cell_type": "code",
   "execution_count": 317,
   "id": "5291316a-0166-4e3f-a86c-0c73deb81191",
   "metadata": {},
   "outputs": [
    {
     "data": {
      "image/png": "[encoded data removed]",
      "text/plain": [
       "<Figure size 1200x600 with 1 Axes>"
      ]
     },
     "metadata": {},
     "output_type": "display_data"
    }
   ],
   "source": [
    "monthly_sales = data_df.groupby(['Year', 'Month'])['Total Sales'].sum()\n",
    "monthly_sales.plot(kind='line', figsize=(12, 6), marker='o', color='b')\n",
    "plt.title('Monthly Sales Trend')\n",
    "plt.xlabel('Month-Year')\n",
    "plt.ylabel('Total Revenue')\n",
    "plt.grid(True)\n",
    "plt.show()\n"
   ]
  },
  {
   "cell_type": "code",
   "execution_count": 333,
   "id": "d0ff04c6-3647-4bfd-9625-2de1047d3642",
   "metadata": {},
   "outputs": [
    {
     "data": {
      "image/png": "[encoded data removed]",
      "text/plain": [
       "<Figure size 800x600 with 1 Axes>"
      ]
     },
     "metadata": {},
     "output_type": "display_data"
    }
   ],
   "source": [
    "products = ['Headphones', 'Laptop', 'Monitor', 'Smartphone', 'Smartwatch', 'Tablet']\n",
    "quantity_sold = [100, 150, 200, 250, 120, 180]\n",
    "total_sales = [179546, 171740, 168883, 145482, 137725, 122628]\n",
    "plt.figure(figsize=(8, 6))\n",
    "plt.scatter(quantity_sold, total_sales, color='b', marker='o')\n",
    "plt.title('Scatter Plot: Quantity Sold vs Total Sales')\n",
    "plt.xlabel('Quantity Sold')\n",
    "plt.ylabel('Total Sales')\n",
    "for i, product in enumerate(products):\n",
    "    plt.text(quantity_sold[i], total_sales[i], product, fontsize=9, ha='right')\n",
    "\n",
    "plt.grid(True)\n",
    "plt.show()"
   ]
  },
  {
   "cell_type": "code",
   "execution_count": null,
   "id": "af30d597-2992-48dc-b287-67858e4998bb",
   "metadata": {},
   "outputs": [],
   "source": []
  }
 ],
 "metadata": {
  "kernelspec": {
   "display_name": "Python [conda env:base] *",
   "language": "python",
   "name": "conda-base-py"
  },
  "language_info": {
   "codemirror_mode": {
    "name": "ipython",
    "version": 3
   },
   "file_extension": ".py",
   "mimetype": "text/x-python",
   "name": "python",
   "nbconvert_exporter": "python",
   "pygments_lexer": "ipython3",
   "version": "3.12.7"
  }
 },
 "nbformat": 4,
 "nbformat_minor": 5
}
